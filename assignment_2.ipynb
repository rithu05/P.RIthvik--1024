{
  "nbformat": 4,
  "nbformat_minor": 0,
  "metadata": {
    "colab": {
      "provenance": [],
      "authorship_tag": "ABX9TyMkDtQuxO/9gY3fKZd7aSNK",
      "include_colab_link": true
    },
    "kernelspec": {
      "name": "python3",
      "display_name": "Python 3"
    },
    "language_info": {
      "name": "python"
    }
  },
  "cells": [
    {
      "cell_type": "markdown",
      "metadata": {
        "id": "view-in-github",
        "colab_type": "text"
      },
      "source": [
        "<a href=\"https://colab.research.google.com/github/rithu05/P.RIthvik--1024/blob/main/assignment_2.ipynb\" target=\"_parent\"><img src=\"https://colab.research.google.com/assets/colab-badge.svg\" alt=\"Open In Colab\"/></a>"
      ]
    },
    {
      "cell_type": "code",
      "execution_count": null,
      "metadata": {
        "colab": {
          "base_uri": "https://localhost:8080/"
        },
        "id": "J4XrGmjiG0gI",
        "outputId": "c5d2e711-c4ba-4275-cab0-a5910004ac4f"
      },
      "outputs": [
        {
          "output_type": "stream",
          "name": "stdout",
          "text": [
            "Hard-coded variablesfor weather modeling\n",
            "Temperature for hard coded variables at time 5 hours: 22.5\n"
          ]
        }
      ],
      "source": [
        "def temperature_model(a,b,c,time):\n",
        " temperature =a*time**2+b*time+c\n",
        " return temperature\n",
        "#Hardcore variables\n",
        "a,b,c=0.1,2,10\n",
        "time=5\n",
        "\n",
        "#displayresults\n",
        "\n",
        "print(\"Hard-coded variablesfor weather modeling\")\n",
        "print(\"Temperature for hard coded variables at time\",time,\"hours:\",temperature_model(a,b,c,time))\n"
      ]
    },
    {
      "cell_type": "code",
      "source": [
        "#accepting variables through input\n",
        "\n",
        "a=float(input(\"Enter coefficient a:\"))\n",
        "b=float(input(\"Enter coefficient b:\"))\n",
        "c=float(input(\"Enter coefficient c:\"))\n",
        "time=float(input(\"enter the time:\"))\n",
        "print(\"Hard-coded variables for weather modelling\")\n",
        "print(\"Temperature from keyboard coefficients at time\",time,\"hours:\",temperature_model(a,b,c,time))"
      ],
      "metadata": {
        "colab": {
          "base_uri": "https://localhost:8080/"
        },
        "id": "UgH2LlGZIx7s",
        "outputId": "941a5a96-a1f1-4c1f-fce4-3fd06e64b311"
      },
      "execution_count": null,
      "outputs": [
        {
          "output_type": "stream",
          "name": "stdout",
          "text": [
            "Enter coefficient a:0.1\n",
            "Enter coefficient b:2\n",
            "Enter coefficient c:3\n",
            "enter the time:5\n",
            "Hard-coded variables for weather modelling\n",
            "Temperature from keyboard coefficients at time 5.0 hours: 15.5\n"
          ]
        }
      ]
    },
    {
      "cell_type": "code",
      "source": [
        "#reading variables from a file\n",
        "def read_from_file(filename):\n",
        "    with open(filename,'r') as file:\n",
        "        lines = file.readlines()\n",
        "    coefficients = [tuple(map(float,line.strip().split(','))) for line in lines]\n",
        "    return coefficients"
      ],
      "metadata": {
        "collapsed": true,
        "id": "FIC2JDUEKJzJ"
      },
      "execution_count": null,
      "outputs": []
    },
    {
      "cell_type": "code",
      "source": [
        "#example : solve a single\n",
        "coefficients = read_from_file('/content/weather test.txt')\n",
        "a,b,c,time = coefficients[0]\n",
        "print(\"Temperature from keyboard coefficients at time\",time,\"hours:\",temperature_model(a,b,c,time))"
      ],
      "metadata": {
        "colab": {
          "base_uri": "https://localhost:8080/"
        },
        "id": "4AZnqqzRL_6y",
        "outputId": "eb0a1336-8134-4b9f-87ad-163f5719bbad"
      },
      "execution_count": null,
      "outputs": [
        {
          "output_type": "stream",
          "name": "stdout",
          "text": [
            "Temperature from keyboard coefficients at time 5.0 hours: 15.5\n"
          ]
        }
      ]
    },
    {
      "cell_type": "code",
      "source": [
        "for idx, (a,b,c,time) in enumerate(coefficients):\n",
        "    temperature = temperature_model(a,b,c,time)\n",
        "    print(\"Temperature form keyboard coefficients at time\",time,\"hours:\",temperature_model(a,b,c,time))"
      ],
      "metadata": {
        "colab": {
          "base_uri": "https://localhost:8080/"
        },
        "id": "5aiG39noPT_A",
        "outputId": "91c2b77e-35f5-406b-8115-3c054296e2e1"
      },
      "execution_count": null,
      "outputs": [
        {
          "output_type": "stream",
          "name": "stdout",
          "text": [
            "Temperature form keyboard coefficients at time 5.0 hours: 15.5\n"
          ]
        }
      ]
    }
  ]
}